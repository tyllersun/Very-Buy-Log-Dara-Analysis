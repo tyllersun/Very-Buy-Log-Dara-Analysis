{
 "cells": [
  {
   "cell_type": "markdown",
   "metadata": {},
   "source": [
    "# VeryBuy Data Analysis"
   ]
  },
  {
   "cell_type": "code",
   "execution_count": 4,
   "metadata": {},
   "outputs": [],
   "source": [
    "import pandas as pd\n",
    "import numpy as np\n",
    "from datetime import datetime\n",
    "import matplotlib.pyplot as plt"
   ]
  },
  {
   "cell_type": "code",
   "execution_count": 5,
   "metadata": {},
   "outputs": [
    {
     "name": "stderr",
     "output_type": "stream",
     "text": [
      "C:\\Users\\b0770\\anaconda3\\lib\\site-packages\\IPython\\core\\interactiveshell.py:3071: DtypeWarning: Columns (18) have mixed types.Specify dtype option on import or set low_memory=False.\n",
      "  has_raised = await self.run_ast_nodes(code_ast.body, cell_name,\n"
     ]
    }
   ],
   "source": [
    "data_1 = pd.read_csv(r\"C:\\Users\\b0770\\Desktop\\VeryBuy csv\\Very_buy1.csv\")\n",
    "data = pd.read_csv(r\"C:\\Users\\b0770\\Desktop\\VeryBuy csv\\Very_buy2.csv\")\n",
    "data = data.append(data_1)"
   ]
  },
  {
   "cell_type": "markdown",
   "metadata": {},
   "source": [
    "General Statistic"
   ]
  },
  {
   "cell_type": "code",
   "execution_count": 3,
   "metadata": {},
   "outputs": [
    {
     "data": {
      "text/html": [
       "<div>\n",
       "<style scoped>\n",
       "    .dataframe tbody tr th:only-of-type {\n",
       "        vertical-align: middle;\n",
       "    }\n",
       "\n",
       "    .dataframe tbody tr th {\n",
       "        vertical-align: top;\n",
       "    }\n",
       "\n",
       "    .dataframe thead th {\n",
       "        text-align: right;\n",
       "    }\n",
       "</style>\n",
       "<table border=\"1\" class=\"dataframe\">\n",
       "  <thead>\n",
       "    <tr style=\"text-align: right;\">\n",
       "      <th></th>\n",
       "      <th>Unnamed: 0</th>\n",
       "      <th>mid</th>\n",
       "      <th>when</th>\n",
       "      <th>pit-number</th>\n",
       "      <th>parent-category-id</th>\n",
       "      <th>gid</th>\n",
       "      <th>amount</th>\n",
       "      <th>revenue</th>\n",
       "      <th>shipping_fee</th>\n",
       "      <th>transaction_id</th>\n",
       "    </tr>\n",
       "  </thead>\n",
       "  <tbody>\n",
       "    <tr>\n",
       "      <th>count</th>\n",
       "      <td>6.538089e+06</td>\n",
       "      <td>2.777980e+06</td>\n",
       "      <td>6.538089e+06</td>\n",
       "      <td>6.322353e+06</td>\n",
       "      <td>1.238629e+06</td>\n",
       "      <td>1.097402e+06</td>\n",
       "      <td>2063.000000</td>\n",
       "      <td>1346.000000</td>\n",
       "      <td>1346.000000</td>\n",
       "      <td>1.346000e+03</td>\n",
       "    </tr>\n",
       "    <tr>\n",
       "      <th>mean</th>\n",
       "      <td>1.634602e+06</td>\n",
       "      <td>9.491849e+05</td>\n",
       "      <td>1.612171e+09</td>\n",
       "      <td>2.277368e+04</td>\n",
       "      <td>3.680286e+00</td>\n",
       "      <td>6.476222e+07</td>\n",
       "      <td>1.019389</td>\n",
       "      <td>3541.140416</td>\n",
       "      <td>51.337296</td>\n",
       "      <td>9.992390e+13</td>\n",
       "    </tr>\n",
       "    <tr>\n",
       "      <th>std</th>\n",
       "      <td>9.438313e+05</td>\n",
       "      <td>3.132867e+05</td>\n",
       "      <td>1.828039e+04</td>\n",
       "      <td>3.270591e+05</td>\n",
       "      <td>4.318191e+00</td>\n",
       "      <td>1.327769e+05</td>\n",
       "      <td>0.191001</td>\n",
       "      <td>4452.833054</td>\n",
       "      <td>53.302761</td>\n",
       "      <td>2.032835e+02</td>\n",
       "    </tr>\n",
       "    <tr>\n",
       "      <th>min</th>\n",
       "      <td>0.000000e+00</td>\n",
       "      <td>2.958000e+03</td>\n",
       "      <td>1.612063e+09</td>\n",
       "      <td>1.000000e+00</td>\n",
       "      <td>0.000000e+00</td>\n",
       "      <td>6.229997e+07</td>\n",
       "      <td>1.000000</td>\n",
       "      <td>0.000000</td>\n",
       "      <td>0.000000</td>\n",
       "      <td>9.992390e+13</td>\n",
       "    </tr>\n",
       "    <tr>\n",
       "      <th>25%</th>\n",
       "      <td>8.172610e+05</td>\n",
       "      <td>7.736120e+05</td>\n",
       "      <td>1.612155e+09</td>\n",
       "      <td>6.000000e+00</td>\n",
       "      <td>1.000000e+00</td>\n",
       "      <td>6.473986e+07</td>\n",
       "      <td>1.000000</td>\n",
       "      <td>1109.500000</td>\n",
       "      <td>0.000000</td>\n",
       "      <td>9.992390e+13</td>\n",
       "    </tr>\n",
       "    <tr>\n",
       "      <th>50%</th>\n",
       "      <td>1.634522e+06</td>\n",
       "      <td>1.064202e+06</td>\n",
       "      <td>1.612173e+09</td>\n",
       "      <td>2.200000e+01</td>\n",
       "      <td>2.000000e+00</td>\n",
       "      <td>6.482430e+07</td>\n",
       "      <td>1.000000</td>\n",
       "      <td>1870.500000</td>\n",
       "      <td>70.000000</td>\n",
       "      <td>9.992390e+13</td>\n",
       "    </tr>\n",
       "    <tr>\n",
       "      <th>75%</th>\n",
       "      <td>2.451783e+06</td>\n",
       "      <td>1.212984e+06</td>\n",
       "      <td>1.612187e+09</td>\n",
       "      <td>1.360000e+02</td>\n",
       "      <td>5.000000e+00</td>\n",
       "      <td>6.483916e+07</td>\n",
       "      <td>1.000000</td>\n",
       "      <td>3446.750000</td>\n",
       "      <td>80.000000</td>\n",
       "      <td>9.992390e+13</td>\n",
       "    </tr>\n",
       "    <tr>\n",
       "      <th>max</th>\n",
       "      <td>3.291980e+06</td>\n",
       "      <td>1.247924e+06</td>\n",
       "      <td>1.612203e+09</td>\n",
       "      <td>5.269710e+06</td>\n",
       "      <td>1.010000e+02</td>\n",
       "      <td>6.484042e+07</td>\n",
       "      <td>4.000000</td>\n",
       "      <td>23916.000000</td>\n",
       "      <td>250.000000</td>\n",
       "      <td>9.992390e+13</td>\n",
       "    </tr>\n",
       "  </tbody>\n",
       "</table>\n",
       "</div>"
      ],
      "text/plain": [
       "         Unnamed: 0           mid          when    pit-number  \\\n",
       "count  6.538089e+06  2.777980e+06  6.538089e+06  6.322353e+06   \n",
       "mean   1.634602e+06  9.491849e+05  1.612171e+09  2.277368e+04   \n",
       "std    9.438313e+05  3.132867e+05  1.828039e+04  3.270591e+05   \n",
       "min    0.000000e+00  2.958000e+03  1.612063e+09  1.000000e+00   \n",
       "25%    8.172610e+05  7.736120e+05  1.612155e+09  6.000000e+00   \n",
       "50%    1.634522e+06  1.064202e+06  1.612173e+09  2.200000e+01   \n",
       "75%    2.451783e+06  1.212984e+06  1.612187e+09  1.360000e+02   \n",
       "max    3.291980e+06  1.247924e+06  1.612203e+09  5.269710e+06   \n",
       "\n",
       "       parent-category-id           gid       amount       revenue  \\\n",
       "count        1.238629e+06  1.097402e+06  2063.000000   1346.000000   \n",
       "mean         3.680286e+00  6.476222e+07     1.019389   3541.140416   \n",
       "std          4.318191e+00  1.327769e+05     0.191001   4452.833054   \n",
       "min          0.000000e+00  6.229997e+07     1.000000      0.000000   \n",
       "25%          1.000000e+00  6.473986e+07     1.000000   1109.500000   \n",
       "50%          2.000000e+00  6.482430e+07     1.000000   1870.500000   \n",
       "75%          5.000000e+00  6.483916e+07     1.000000   3446.750000   \n",
       "max          1.010000e+02  6.484042e+07     4.000000  23916.000000   \n",
       "\n",
       "       shipping_fee  transaction_id  \n",
       "count   1346.000000    1.346000e+03  \n",
       "mean      51.337296    9.992390e+13  \n",
       "std       53.302761    2.032835e+02  \n",
       "min        0.000000    9.992390e+13  \n",
       "25%        0.000000    9.992390e+13  \n",
       "50%       70.000000    9.992390e+13  \n",
       "75%       80.000000    9.992390e+13  \n",
       "max      250.000000    9.992390e+13  "
      ]
     },
     "execution_count": 3,
     "metadata": {},
     "output_type": "execute_result"
    }
   ],
   "source": [
    "data.describe()"
   ]
  },
  {
   "cell_type": "markdown",
   "metadata": {},
   "source": [
    "Percentage of buying customer"
   ]
  },
  {
   "cell_type": "code",
   "execution_count": 6,
   "metadata": {},
   "outputs": [],
   "source": [
    "nd = data[data.event == \"buy\"]"
   ]
  },
  {
   "cell_type": "code",
   "execution_count": null,
   "metadata": {},
   "outputs": [],
   "source": [
    "nd[\"mid\"]"
   ]
  },
  {
   "cell_type": "code",
   "execution_count": null,
   "metadata": {},
   "outputs": [],
   "source": [
    "total_customer_numb = len(set(data[\"mid\"]))"
   ]
  },
  {
   "cell_type": "code",
   "execution_count": null,
   "metadata": {},
   "outputs": [],
   "source": [
    "total_customer_numb"
   ]
  },
  {
   "cell_type": "code",
   "execution_count": null,
   "metadata": {},
   "outputs": [],
   "source": [
    "len(set(data[data.event == \"buy\"][\"mid\"])) / len(set(data[\"mid\"]))"
   ]
  },
  {
   "cell_type": "code",
   "execution_count": 121,
   "metadata": {},
   "outputs": [
    {
     "data": {
      "text/plain": [
       "69100.0"
      ]
     },
     "execution_count": 121,
     "metadata": {},
     "output_type": "execute_result"
    }
   ],
   "source": [
    "data[\"shipping_fee\"].fillna(0).sum()"
   ]
  },
  {
   "cell_type": "code",
   "execution_count": 4,
   "metadata": {},
   "outputs": [],
   "source": [
    "time = data[\"when\"]"
   ]
  },
  {
   "cell_type": "code",
   "execution_count": 5,
   "metadata": {},
   "outputs": [],
   "source": [
    "data[\"time\"] = pd.to_datetime(pd.Series(time), unit = \"s\")"
   ]
  },
  {
   "cell_type": "markdown",
   "metadata": {},
   "source": [
    "以每分鐘進行切割"
   ]
  },
  {
   "cell_type": "code",
   "execution_count": 6,
   "metadata": {},
   "outputs": [],
   "source": [
    "data[\"time index\"] = 60*(data[\"time\"].dt.hour) + (data[\"time\"].dt.minute)"
   ]
  },
  {
   "cell_type": "code",
   "execution_count": 7,
   "metadata": {},
   "outputs": [],
   "source": [
    "groupby_time = data.groupby(\"time index\")"
   ]
  },
  {
   "cell_type": "markdown",
   "metadata": {},
   "source": [
    "# Revenue plot"
   ]
  },
  {
   "cell_type": "code",
   "execution_count": 8,
   "metadata": {},
   "outputs": [],
   "source": [
    "revenue_sum = groupby_time[\"revenue\"].sum().fillna(0)\n",
    "revenue_std = groupby_time[\"revenue\"].std().fillna(0)\n",
    "revenue_mean = groupby_time[\"revenue\"].mean().fillna(0)\n",
    "revenue_max = groupby_time[\"revenue\"].max().fillna(0)"
   ]
  },
  {
   "cell_type": "markdown",
   "metadata": {},
   "source": [
    "在早上起來時有最高的購買次數"
   ]
  },
  {
   "cell_type": "code",
   "execution_count": 30,
   "metadata": {},
   "outputs": [],
   "source": [
    "buy = data.groupby([\"time index\",\"event\"]).size().reset_index()\n",
    "buy = buy[buy.event == \"buy\"]"
   ]
  },
  {
   "cell_type": "code",
   "execution_count": 34,
   "metadata": {
    "scrolled": true
   },
   "outputs": [
    {
     "name": "stderr",
     "output_type": "stream",
     "text": [
      "<ipython-input-34-ce04f45cfadf>:2: RuntimeWarning: divide by zero encountered in true_divide\n",
      "  plt.plot(revenue_sum.keys(), revenue_sum.values / revenue_std.values, label = \"std sum\")\n",
      "<ipython-input-34-ce04f45cfadf>:2: RuntimeWarning: invalid value encountered in true_divide\n",
      "  plt.plot(revenue_sum.keys(), revenue_sum.values / revenue_std.values, label = \"std sum\")\n"
     ]
    },
    {
     "data": {
      "image/png": "[encoded data removed]",
      "text/plain": [
       "<Figure size 432x288 with 1 Axes>"
      ]
     },
     "metadata": {
      "needs_background": "light"
     },
     "output_type": "display_data"
    }
   ],
   "source": [
    "#plt.plot(revenue_sum.keys(), revenue_sum.values, label = \"sum\")\n",
    "#plt.plot(revenue_sum.keys(), revenue_sum.values / revenue_std.values, label = \"std sum\")\n",
    "plt.plot(revenue_mean.keys(), revenue_mean.values,alpha = 0.5 ,label = \"mean\")\n",
    "plt.plot(buy[\"time index\"], 100 * buy[0], label = \"buy time * 100\")\n",
    "#plt.plot(revenue_max.keys(), revenue_max.values, label = \"max\")\n",
    "plt.legend(bbox_to_anchor=(1.05, 1), loc='upper left', borderaxespad=0.)\n",
    "plt.xlim(0, 1100)\n",
    "plt.show()"
   ]
  },
  {
   "cell_type": "markdown",
   "metadata": {},
   "source": [
    "# Event Plot and Corr"
   ]
  },
  {
   "cell_type": "code",
   "execution_count": 9,
   "metadata": {
    "collapsed": true
   },
   "outputs": [
    {
     "ename": "NameError",
     "evalue": "name 'df' is not defined",
     "output_type": "error",
     "traceback": [
      "\u001b[1;31m---------------------------------------------------------------------------\u001b[0m",
      "\u001b[1;31mNameError\u001b[0m                                 Traceback (most recent call last)",
      "\u001b[1;32m<ipython-input-9-f96d605a7e66>\u001b[0m in \u001b[0;36m<module>\u001b[1;34m\u001b[0m\n\u001b[1;32m----> 1\u001b[1;33m \u001b[0mevent_series\u001b[0m \u001b[1;33m=\u001b[0m \u001b[0mdf\u001b[0m\u001b[1;33m.\u001b[0m\u001b[0mgroupby\u001b[0m\u001b[1;33m(\u001b[0m\u001b[1;33m[\u001b[0m\u001b[1;34m\"time index\"\u001b[0m\u001b[1;33m,\u001b[0m\u001b[1;34m\"event\"\u001b[0m\u001b[1;33m]\u001b[0m\u001b[1;33m)\u001b[0m\u001b[1;33m.\u001b[0m\u001b[0msize\u001b[0m\u001b[1;33m(\u001b[0m\u001b[1;33m)\u001b[0m\u001b[1;33m\u001b[0m\u001b[1;33m\u001b[0m\u001b[0m\n\u001b[0m",
      "\u001b[1;31mNameError\u001b[0m: name 'df' is not defined"
     ]
    }
   ],
   "source": [
    "event_series = data.groupby([\"time index\",\"event\"]).size()"
   ]
  },
  {
   "cell_type": "code",
   "execution_count": 87,
   "metadata": {},
   "outputs": [],
   "source": [
    "event_frame = event_series.reset_index()"
   ]
  },
  {
   "cell_type": "code",
   "execution_count": 102,
   "metadata": {},
   "outputs": [],
   "source": [
    "def calculate_rate(data_frame, column_name):\n",
    "    data_frame = data_frame.reset_index(drop = True)\n",
    "    rate_list = []\n",
    "    rate_list.append(0)\n",
    "    temp = data_frame.loc[0,column_name]\n",
    "    for i in range(1,len(data_frame)):\n",
    "        rate_list.append((data_frame.loc[i, column_name] - temp) / temp)\n",
    "        temp = data_frame.loc[i, column_name]\n",
    "    data_frame[\"rate\"] = rate_list\n",
    "    return data_frame"
   ]
  },
  {
   "cell_type": "markdown",
   "metadata": {},
   "source": [
    "各項目在不同時點的出現次數"
   ]
  },
  {
   "cell_type": "code",
   "execution_count": 105,
   "metadata": {},
   "outputs": [
    {
     "data": {
      "text/html": [
       "<div>\n",
       "<style scoped>\n",
       "    .dataframe tbody tr th:only-of-type {\n",
       "        vertical-align: middle;\n",
       "    }\n",
       "\n",
       "    .dataframe tbody tr th {\n",
       "        vertical-align: top;\n",
       "    }\n",
       "\n",
       "    .dataframe thead th {\n",
       "        text-align: right;\n",
       "    }\n",
       "</style>\n",
       "<table border=\"1\" class=\"dataframe\">\n",
       "  <thead>\n",
       "    <tr style=\"text-align: right;\">\n",
       "      <th></th>\n",
       "      <th>time index</th>\n",
       "      <th>event</th>\n",
       "      <th>0</th>\n",
       "      <th>rate</th>\n",
       "    </tr>\n",
       "  </thead>\n",
       "  <tbody>\n",
       "    <tr>\n",
       "      <th>0</th>\n",
       "      <td>0</td>\n",
       "      <td>atc</td>\n",
       "      <td>1</td>\n",
       "      <td>0.000000</td>\n",
       "    </tr>\n",
       "    <tr>\n",
       "      <th>1</th>\n",
       "      <td>1</td>\n",
       "      <td>atc</td>\n",
       "      <td>1</td>\n",
       "      <td>0.000000</td>\n",
       "    </tr>\n",
       "    <tr>\n",
       "      <th>2</th>\n",
       "      <td>2</td>\n",
       "      <td>atc</td>\n",
       "      <td>12</td>\n",
       "      <td>11.000000</td>\n",
       "    </tr>\n",
       "    <tr>\n",
       "      <th>3</th>\n",
       "      <td>3</td>\n",
       "      <td>atc</td>\n",
       "      <td>5</td>\n",
       "      <td>-0.583333</td>\n",
       "    </tr>\n",
       "    <tr>\n",
       "      <th>4</th>\n",
       "      <td>4</td>\n",
       "      <td>atc</td>\n",
       "      <td>5</td>\n",
       "      <td>0.000000</td>\n",
       "    </tr>\n",
       "    <tr>\n",
       "      <th>...</th>\n",
       "      <td>...</td>\n",
       "      <td>...</td>\n",
       "      <td>...</td>\n",
       "      <td>...</td>\n",
       "    </tr>\n",
       "    <tr>\n",
       "      <th>1087</th>\n",
       "      <td>1088</td>\n",
       "      <td>atc</td>\n",
       "      <td>10</td>\n",
       "      <td>0.000000</td>\n",
       "    </tr>\n",
       "    <tr>\n",
       "      <th>1088</th>\n",
       "      <td>1089</td>\n",
       "      <td>atc</td>\n",
       "      <td>5</td>\n",
       "      <td>-0.500000</td>\n",
       "    </tr>\n",
       "    <tr>\n",
       "      <th>1089</th>\n",
       "      <td>1090</td>\n",
       "      <td>atc</td>\n",
       "      <td>6</td>\n",
       "      <td>0.200000</td>\n",
       "    </tr>\n",
       "    <tr>\n",
       "      <th>1090</th>\n",
       "      <td>1091</td>\n",
       "      <td>atc</td>\n",
       "      <td>6</td>\n",
       "      <td>0.000000</td>\n",
       "    </tr>\n",
       "    <tr>\n",
       "      <th>1091</th>\n",
       "      <td>1092</td>\n",
       "      <td>atc</td>\n",
       "      <td>4</td>\n",
       "      <td>-0.333333</td>\n",
       "    </tr>\n",
       "  </tbody>\n",
       "</table>\n",
       "<p>1092 rows × 4 columns</p>\n",
       "</div>"
      ],
      "text/plain": [
       "      time index event   0       rate\n",
       "0              0   atc   1   0.000000\n",
       "1              1   atc   1   0.000000\n",
       "2              2   atc  12  11.000000\n",
       "3              3   atc   5  -0.583333\n",
       "4              4   atc   5   0.000000\n",
       "...          ...   ...  ..        ...\n",
       "1087        1088   atc  10   0.000000\n",
       "1088        1089   atc   5  -0.500000\n",
       "1089        1090   atc   6   0.200000\n",
       "1090        1091   atc   6   0.000000\n",
       "1091        1092   atc   4  -0.333333\n",
       "\n",
       "[1092 rows x 4 columns]"
      ]
     },
     "execution_count": 105,
     "metadata": {},
     "output_type": "execute_result"
    }
   ],
   "source": [
    "calculate_rate(atc, 0)"
   ]
  },
  {
   "cell_type": "code",
   "execution_count": 7,
   "metadata": {
    "collapsed": true
   },
   "outputs": [
    {
     "ename": "NameError",
     "evalue": "name 'event_frame' is not defined",
     "output_type": "error",
     "traceback": [
      "\u001b[1;31m---------------------------------------------------------------------------\u001b[0m",
      "\u001b[1;31mNameError\u001b[0m                                 Traceback (most recent call last)",
      "\u001b[1;32m<ipython-input-7-c9bca51db437>\u001b[0m in \u001b[0;36m<module>\u001b[1;34m\u001b[0m\n\u001b[1;32m----> 1\u001b[1;33m \u001b[0matc\u001b[0m \u001b[1;33m=\u001b[0m \u001b[0mevent_frame\u001b[0m\u001b[1;33m[\u001b[0m\u001b[0mevent_frame\u001b[0m\u001b[1;33m.\u001b[0m\u001b[0mevent\u001b[0m \u001b[1;33m==\u001b[0m \u001b[1;34m\"atc\"\u001b[0m\u001b[1;33m]\u001b[0m\u001b[1;33m\u001b[0m\u001b[1;33m\u001b[0m\u001b[0m\n\u001b[0m\u001b[0;32m      2\u001b[0m \u001b[0mplt\u001b[0m\u001b[1;33m.\u001b[0m\u001b[0mplot\u001b[0m\u001b[1;33m(\u001b[0m\u001b[0matc\u001b[0m\u001b[1;33m[\u001b[0m\u001b[1;34m\"time index\"\u001b[0m\u001b[1;33m]\u001b[0m\u001b[1;33m,\u001b[0m \u001b[0matc\u001b[0m\u001b[1;33m[\u001b[0m\u001b[1;36m0\u001b[0m\u001b[1;33m]\u001b[0m\u001b[1;33m,\u001b[0m \u001b[0mlabel\u001b[0m \u001b[1;33m=\u001b[0m \u001b[1;34m\"atc\"\u001b[0m\u001b[1;33m)\u001b[0m\u001b[1;33m\u001b[0m\u001b[1;33m\u001b[0m\u001b[0m\n\u001b[0;32m      3\u001b[0m \u001b[0mpageview\u001b[0m \u001b[1;33m=\u001b[0m \u001b[0mevent_frame\u001b[0m\u001b[1;33m[\u001b[0m\u001b[0mevent_frame\u001b[0m\u001b[1;33m.\u001b[0m\u001b[0mevent\u001b[0m \u001b[1;33m==\u001b[0m \u001b[1;34m\"pageview\"\u001b[0m\u001b[1;33m]\u001b[0m\u001b[1;33m\u001b[0m\u001b[1;33m\u001b[0m\u001b[0m\n\u001b[0;32m      4\u001b[0m \u001b[0mplt\u001b[0m\u001b[1;33m.\u001b[0m\u001b[0mplot\u001b[0m\u001b[1;33m(\u001b[0m\u001b[0mpageview\u001b[0m\u001b[1;33m[\u001b[0m\u001b[1;34m\"time index\"\u001b[0m\u001b[1;33m]\u001b[0m\u001b[1;33m,\u001b[0m \u001b[0mpageview\u001b[0m\u001b[1;33m[\u001b[0m\u001b[1;36m0\u001b[0m\u001b[1;33m]\u001b[0m\u001b[1;33m,\u001b[0m \u001b[0mlabel\u001b[0m \u001b[1;33m=\u001b[0m \u001b[1;34m\"pageview\"\u001b[0m\u001b[1;33m)\u001b[0m\u001b[1;33m\u001b[0m\u001b[1;33m\u001b[0m\u001b[0m\n\u001b[0;32m      5\u001b[0m \u001b[0mclick\u001b[0m \u001b[1;33m=\u001b[0m \u001b[0mevent_frame\u001b[0m\u001b[1;33m[\u001b[0m\u001b[0mevent_frame\u001b[0m\u001b[1;33m.\u001b[0m\u001b[0mevent\u001b[0m \u001b[1;33m==\u001b[0m \u001b[1;34m\"click\"\u001b[0m\u001b[1;33m]\u001b[0m\u001b[1;33m\u001b[0m\u001b[1;33m\u001b[0m\u001b[0m\n",
      "\u001b[1;31mNameError\u001b[0m: name 'event_frame' is not defined"
     ]
    }
   ],
   "source": [
    "atc = event_frame[event_frame.event == \"atc\"]\n",
    "plt.plot(atc[\"time index\"], atc[0], label = \"atc\")\n",
    "pageview = event_frame[event_frame.event == \"pageview\"]\n",
    "plt.plot(pageview[\"time index\"], pageview[0], label = \"pageview\")\n",
    "click = event_frame[event_frame.event == \"click\"]\n",
    "plt.plot(click[\"time index\"], click[0], label = \"click\")\n",
    "love = event_frame[event_frame.event == \"love\"]\n",
    "plt.plot(love[\"time index\"], love[0], label = \"love\")\n",
    "impression = event_frame[event_frame.event == \"impression\"]\n",
    "plt.plot(impression[\"time index\"], impression[0], label = \"impression\")\n",
    "buy = event_frame[event_frame.event == \"buy\"]\n",
    "plt.plot(buy[\"time index\"], buy[0], label = \"buy\")\n",
    "\n",
    "plt.legend(bbox_to_anchor=(1.05, 1), loc='upper left', borderaxespad=0.)\n",
    "plt.xlim(0, 1100)\n",
    "plt.show()"
   ]
  },
  {
   "cell_type": "markdown",
   "metadata": {},
   "source": [
    "加權後的圖(應該要改為標準化)"
   ]
  },
  {
   "cell_type": "code",
   "execution_count": 2,
   "metadata": {},
   "outputs": [],
   "source": [
    "def normalize(df):\n",
    "    result = df.copy()\n",
    "    for feature_name in df.columns:\n",
    "        max_value = df[feature_name].max()\n",
    "        min_value = df[feature_name].min()\n",
    "        result[feature_name] = (df[feature_name] - min_value) / (max_value - min_value)\n",
    "    return result"
   ]
  },
  {
   "cell_type": "code",
   "execution_count": 4,
   "metadata": {
    "collapsed": true
   },
   "outputs": [
    {
     "ename": "NameError",
     "evalue": "name 'event_frame' is not defined",
     "output_type": "error",
     "traceback": [
      "\u001b[1;31m---------------------------------------------------------------------------\u001b[0m",
      "\u001b[1;31mNameError\u001b[0m                                 Traceback (most recent call last)",
      "\u001b[1;32m<ipython-input-4-77dc79f1fcff>\u001b[0m in \u001b[0;36m<module>\u001b[1;34m\u001b[0m\n\u001b[1;32m----> 1\u001b[1;33m \u001b[0matc\u001b[0m \u001b[1;33m=\u001b[0m \u001b[0mevent_frame\u001b[0m\u001b[1;33m[\u001b[0m\u001b[0mevent_frame\u001b[0m\u001b[1;33m.\u001b[0m\u001b[0mevent\u001b[0m \u001b[1;33m==\u001b[0m \u001b[1;34m\"atc\"\u001b[0m\u001b[1;33m]\u001b[0m\u001b[1;33m\u001b[0m\u001b[1;33m\u001b[0m\u001b[0m\n\u001b[0m\u001b[0;32m      2\u001b[0m \u001b[0mplt\u001b[0m\u001b[1;33m.\u001b[0m\u001b[0mplot\u001b[0m\u001b[1;33m(\u001b[0m\u001b[0matc\u001b[0m\u001b[1;33m[\u001b[0m\u001b[1;34m\"time index\"\u001b[0m\u001b[1;33m]\u001b[0m\u001b[1;33m,\u001b[0m \u001b[1;36m50\u001b[0m\u001b[1;33m*\u001b[0m\u001b[0matc\u001b[0m\u001b[1;33m[\u001b[0m\u001b[1;36m0\u001b[0m\u001b[1;33m]\u001b[0m\u001b[1;33m,\u001b[0m \u001b[0mlabel\u001b[0m \u001b[1;33m=\u001b[0m \u001b[1;34m\"50*atc\"\u001b[0m\u001b[1;33m)\u001b[0m\u001b[1;33m\u001b[0m\u001b[1;33m\u001b[0m\u001b[0m\n\u001b[0;32m      3\u001b[0m \u001b[0mpageview\u001b[0m \u001b[1;33m=\u001b[0m \u001b[0mevent_frame\u001b[0m\u001b[1;33m[\u001b[0m\u001b[0mevent_frame\u001b[0m\u001b[1;33m.\u001b[0m\u001b[0mevent\u001b[0m \u001b[1;33m==\u001b[0m \u001b[1;34m\"pageview\"\u001b[0m\u001b[1;33m]\u001b[0m\u001b[1;33m\u001b[0m\u001b[1;33m\u001b[0m\u001b[0m\n\u001b[0;32m      4\u001b[0m \u001b[0mplt\u001b[0m\u001b[1;33m.\u001b[0m\u001b[0mplot\u001b[0m\u001b[1;33m(\u001b[0m\u001b[0mpageview\u001b[0m\u001b[1;33m[\u001b[0m\u001b[1;34m\"time index\"\u001b[0m\u001b[1;33m]\u001b[0m\u001b[1;33m,\u001b[0m \u001b[0mpageview\u001b[0m\u001b[1;33m[\u001b[0m\u001b[1;36m0\u001b[0m\u001b[1;33m]\u001b[0m\u001b[1;33m,\u001b[0m \u001b[0mlabel\u001b[0m \u001b[1;33m=\u001b[0m \u001b[1;34m\"pageview\"\u001b[0m\u001b[1;33m)\u001b[0m\u001b[1;33m\u001b[0m\u001b[1;33m\u001b[0m\u001b[0m\n\u001b[0;32m      5\u001b[0m \u001b[0mclick\u001b[0m \u001b[1;33m=\u001b[0m \u001b[0mevent_frame\u001b[0m\u001b[1;33m[\u001b[0m\u001b[0mevent_frame\u001b[0m\u001b[1;33m.\u001b[0m\u001b[0mevent\u001b[0m \u001b[1;33m==\u001b[0m \u001b[1;34m\"click\"\u001b[0m\u001b[1;33m]\u001b[0m\u001b[1;33m\u001b[0m\u001b[1;33m\u001b[0m\u001b[0m\n",
      "\u001b[1;31mNameError\u001b[0m: name 'event_frame' is not defined"
     ]
    }
   ],
   "source": [
    "atc = event_frame[event_frame.event == \"atc\"]\n",
    "plt.plot(atc[\"time index\"], 50*atc[0], label = \"50*atc\")\n",
    "pageview = event_frame[event_frame.event == \"pageview\"]\n",
    "plt.plot(pageview[\"time index\"], pageview[0], label = \"pageview\")\n",
    "click = event_frame[event_frame.event == \"click\"]\n",
    "plt.plot(click[\"time index\"], click[0], label = \"click\")\n",
    "love = event_frame[event_frame.event == \"love\"]\n",
    "plt.plot(love[\"time index\"], love[0], label = \"love\")\n",
    "impression = event_frame[event_frame.event == \"impression\"]\n",
    "plt.plot(impression[\"time index\"], impression[0], label = \"impression\")\n",
    "buy = event_frame[event_frame.event == \"buy\"]\n",
    "plt.plot(buy[\"time index\"], 50*buy[0], label = \"50*buy\")\n",
    "\n",
    "plt.legend(bbox_to_anchor=(1.05, 1), loc='upper left', borderaxespad=0.)\n",
    "plt.xlim(0, 1100)\n",
    "plt.show()"
   ]
  },
  {
   "cell_type": "code",
   "execution_count": 76,
   "metadata": {},
   "outputs": [
    {
     "data": {
      "text/plain": [
       "0        1\n",
       "2        1\n",
       "6       12\n",
       "10       5\n",
       "15       5\n",
       "        ..\n",
       "5906    10\n",
       "5911     5\n",
       "5916     6\n",
       "5921     6\n",
       "5927     4\n",
       "Name: 0, Length: 1092, dtype: int64"
      ]
     },
     "execution_count": 76,
     "metadata": {},
     "output_type": "execute_result"
    }
   ],
   "source": [
    "atc[0]\n",
    "#pageview[0]"
   ]
  },
  {
   "cell_type": "code",
   "execution_count": 96,
   "metadata": {},
   "outputs": [],
   "source": [
    "event_times = pd.DataFrame(event_series.unstack(level=1))"
   ]
  },
  {
   "cell_type": "code",
   "execution_count": 99,
   "metadata": {},
   "outputs": [],
   "source": [
    "event_times = event_times.fillna(0)"
   ]
  },
  {
   "cell_type": "code",
   "execution_count": 89,
   "metadata": {},
   "outputs": [],
   "source": [
    "#event_times = pd.DataFrame(atc[0], pageview[0], click[0], buy[0])\n",
    "event_times[\"atc\"] = atc[0]\n",
    "event_times[\"pageview\"] = pageview[0]\n",
    "event_times[\"click\"] = click[0]\n",
    "event_times[\"buy\"] = buy[0]"
   ]
  },
  {
   "cell_type": "markdown",
   "metadata": {},
   "source": [
    "找出event彼此之間的關聯性\n",
    "* click 與 atc 之間的關聯性很高，代表點頁面後有較高的機率把商品放入購物車 //Q:ATC一定要Click\n",
    "* buy 與 atc 之間幾乎沒有關連性，代表ATC後，最後買的機率非常非常低"
   ]
  },
  {
   "cell_type": "code",
   "execution_count": 100,
   "metadata": {},
   "outputs": [
    {
     "data": {
      "text/html": [
       "<div>\n",
       "<style scoped>\n",
       "    .dataframe tbody tr th:only-of-type {\n",
       "        vertical-align: middle;\n",
       "    }\n",
       "\n",
       "    .dataframe tbody tr th {\n",
       "        vertical-align: top;\n",
       "    }\n",
       "\n",
       "    .dataframe thead th {\n",
       "        text-align: right;\n",
       "    }\n",
       "</style>\n",
       "<table border=\"1\" class=\"dataframe\">\n",
       "  <thead>\n",
       "    <tr style=\"text-align: right;\">\n",
       "      <th>event</th>\n",
       "      <th>atc</th>\n",
       "      <th>buy</th>\n",
       "      <th>click</th>\n",
       "      <th>impression</th>\n",
       "      <th>love</th>\n",
       "      <th>pageview</th>\n",
       "      <th>view</th>\n",
       "    </tr>\n",
       "    <tr>\n",
       "      <th>event</th>\n",
       "      <th></th>\n",
       "      <th></th>\n",
       "      <th></th>\n",
       "      <th></th>\n",
       "      <th></th>\n",
       "      <th></th>\n",
       "      <th></th>\n",
       "    </tr>\n",
       "  </thead>\n",
       "  <tbody>\n",
       "    <tr>\n",
       "      <th>atc</th>\n",
       "      <td>1.000000</td>\n",
       "      <td>0.032962</td>\n",
       "      <td>0.491384</td>\n",
       "      <td>0.135088</td>\n",
       "      <td>0.022715</td>\n",
       "      <td>0.459307</td>\n",
       "      <td>0.437527</td>\n",
       "    </tr>\n",
       "    <tr>\n",
       "      <th>buy</th>\n",
       "      <td>0.032962</td>\n",
       "      <td>1.000000</td>\n",
       "      <td>0.028586</td>\n",
       "      <td>-0.017190</td>\n",
       "      <td>-0.006791</td>\n",
       "      <td>0.035456</td>\n",
       "      <td>0.024826</td>\n",
       "    </tr>\n",
       "    <tr>\n",
       "      <th>click</th>\n",
       "      <td>0.491384</td>\n",
       "      <td>0.028586</td>\n",
       "      <td>1.000000</td>\n",
       "      <td>0.296598</td>\n",
       "      <td>0.053403</td>\n",
       "      <td>0.938337</td>\n",
       "      <td>0.905921</td>\n",
       "    </tr>\n",
       "    <tr>\n",
       "      <th>impression</th>\n",
       "      <td>0.135088</td>\n",
       "      <td>-0.017190</td>\n",
       "      <td>0.296598</td>\n",
       "      <td>1.000000</td>\n",
       "      <td>0.070696</td>\n",
       "      <td>0.278748</td>\n",
       "      <td>0.264322</td>\n",
       "    </tr>\n",
       "    <tr>\n",
       "      <th>love</th>\n",
       "      <td>0.022715</td>\n",
       "      <td>-0.006791</td>\n",
       "      <td>0.053403</td>\n",
       "      <td>0.070696</td>\n",
       "      <td>1.000000</td>\n",
       "      <td>-0.003766</td>\n",
       "      <td>0.016859</td>\n",
       "    </tr>\n",
       "    <tr>\n",
       "      <th>pageview</th>\n",
       "      <td>0.459307</td>\n",
       "      <td>0.035456</td>\n",
       "      <td>0.938337</td>\n",
       "      <td>0.278748</td>\n",
       "      <td>-0.003766</td>\n",
       "      <td>1.000000</td>\n",
       "      <td>0.924790</td>\n",
       "    </tr>\n",
       "    <tr>\n",
       "      <th>view</th>\n",
       "      <td>0.437527</td>\n",
       "      <td>0.024826</td>\n",
       "      <td>0.905921</td>\n",
       "      <td>0.264322</td>\n",
       "      <td>0.016859</td>\n",
       "      <td>0.924790</td>\n",
       "      <td>1.000000</td>\n",
       "    </tr>\n",
       "  </tbody>\n",
       "</table>\n",
       "</div>"
      ],
      "text/plain": [
       "event            atc       buy     click  impression      love  pageview  \\\n",
       "event                                                                      \n",
       "atc         1.000000  0.032962  0.491384    0.135088  0.022715  0.459307   \n",
       "buy         0.032962  1.000000  0.028586   -0.017190 -0.006791  0.035456   \n",
       "click       0.491384  0.028586  1.000000    0.296598  0.053403  0.938337   \n",
       "impression  0.135088 -0.017190  0.296598    1.000000  0.070696  0.278748   \n",
       "love        0.022715 -0.006791  0.053403    0.070696  1.000000 -0.003766   \n",
       "pageview    0.459307  0.035456  0.938337    0.278748 -0.003766  1.000000   \n",
       "view        0.437527  0.024826  0.905921    0.264322  0.016859  0.924790   \n",
       "\n",
       "event           view  \n",
       "event                 \n",
       "atc         0.437527  \n",
       "buy         0.024826  \n",
       "click       0.905921  \n",
       "impression  0.264322  \n",
       "love        0.016859  \n",
       "pageview    0.924790  \n",
       "view        1.000000  "
      ]
     },
     "execution_count": 100,
     "metadata": {},
     "output_type": "execute_result"
    }
   ],
   "source": [
    "event_times = event_times.fillna(0)\n",
    "event_times.corr()"
   ]
  },
  {
   "cell_type": "code",
   "execution_count": 106,
   "metadata": {},
   "outputs": [],
   "source": [
    "atc = calculate_rate(atc, 0)\n",
    "pageview = calculate_rate(pageview, 0)"
   ]
  },
  {
   "cell_type": "code",
   "execution_count": 107,
   "metadata": {
    "collapsed": true
   },
   "outputs": [
    {
     "name": "stderr",
     "output_type": "stream",
     "text": [
      "<ipython-input-107-4740a7a4b4e0>:1: SettingWithCopyWarning: \n",
      "A value is trying to be set on a copy of a slice from a DataFrame.\n",
      "Try using .loc[row_indexer,col_indexer] = value instead\n",
      "\n",
      "See the caveats in the documentation: https://pandas.pydata.org/pandas-docs/stable/user_guide/indexing.html#returning-a-view-versus-a-copy\n",
      "  click[\"rate_page_view\"] = pageview[\"rate\"]\n",
      "<ipython-input-107-4740a7a4b4e0>:2: SettingWithCopyWarning: \n",
      "A value is trying to be set on a copy of a slice from a DataFrame.\n",
      "Try using .loc[row_indexer,col_indexer] = value instead\n",
      "\n",
      "See the caveats in the documentation: https://pandas.pydata.org/pandas-docs/stable/user_guide/indexing.html#returning-a-view-versus-a-copy\n",
      "  click[\"rate_atc\"] = atc[\"rate\"]\n"
     ]
    }
   ],
   "source": [
    "click[\"rate_page_view\"] = pageview[\"rate\"]\n",
    "click[\"rate_atc\"] = atc[\"rate\"]\n",
    "click = click.fillna(0)"
   ]
  },
  {
   "cell_type": "code",
   "execution_count": 108,
   "metadata": {},
   "outputs": [],
   "source": [
    "data[\"revenue\"] = data[\"revenue\"].fillna(0)"
   ]
  },
  {
   "cell_type": "markdown",
   "metadata": {},
   "source": [
    "由於 atc 與 buy之間沒有高關聯性，因此想要分析區勢上是否會有相關"
   ]
  },
  {
   "cell_type": "code",
   "execution_count": 109,
   "metadata": {},
   "outputs": [
    {
     "data": {
      "text/html": [
       "<div>\n",
       "<style scoped>\n",
       "    .dataframe tbody tr th:only-of-type {\n",
       "        vertical-align: middle;\n",
       "    }\n",
       "\n",
       "    .dataframe tbody tr th {\n",
       "        vertical-align: top;\n",
       "    }\n",
       "\n",
       "    .dataframe thead th {\n",
       "        text-align: right;\n",
       "    }\n",
       "</style>\n",
       "<table border=\"1\" class=\"dataframe\">\n",
       "  <thead>\n",
       "    <tr style=\"text-align: right;\">\n",
       "      <th></th>\n",
       "      <th>rate_page_view</th>\n",
       "      <th>rate_atc</th>\n",
       "    </tr>\n",
       "  </thead>\n",
       "  <tbody>\n",
       "    <tr>\n",
       "      <th>rate_page_view</th>\n",
       "      <td>1.000000</td>\n",
       "      <td>0.061881</td>\n",
       "    </tr>\n",
       "    <tr>\n",
       "      <th>rate_atc</th>\n",
       "      <td>0.061881</td>\n",
       "      <td>1.000000</td>\n",
       "    </tr>\n",
       "  </tbody>\n",
       "</table>\n",
       "</div>"
      ],
      "text/plain": [
       "                rate_page_view  rate_atc\n",
       "rate_page_view        1.000000  0.061881\n",
       "rate_atc              0.061881  1.000000"
      ]
     },
     "execution_count": 109,
     "metadata": {},
     "output_type": "execute_result"
    }
   ],
   "source": [
    "click.drop(columns = [0, \"time index\"]).corr()"
   ]
  },
  {
   "cell_type": "markdown",
   "metadata": {},
   "source": [
    "由以上結果發現到基本上沒有太高的相關性，因此接下來利用auto correlation的方式來分析關聯性"
   ]
  },
  {
   "cell_type": "code",
   "execution_count": 110,
   "metadata": {},
   "outputs": [
    {
     "data": {
      "text/html": [
       "<div>\n",
       "<style scoped>\n",
       "    .dataframe tbody tr th:only-of-type {\n",
       "        vertical-align: middle;\n",
       "    }\n",
       "\n",
       "    .dataframe tbody tr th {\n",
       "        vertical-align: top;\n",
       "    }\n",
       "\n",
       "    .dataframe thead th {\n",
       "        text-align: right;\n",
       "    }\n",
       "</style>\n",
       "<table border=\"1\" class=\"dataframe\">\n",
       "  <thead>\n",
       "    <tr style=\"text-align: right;\">\n",
       "      <th></th>\n",
       "      <th>rate_page_view</th>\n",
       "      <th>rate_atc</th>\n",
       "    </tr>\n",
       "  </thead>\n",
       "  <tbody>\n",
       "    <tr>\n",
       "      <th>rate_page_view</th>\n",
       "      <td>1.000000</td>\n",
       "      <td>-0.056225</td>\n",
       "    </tr>\n",
       "    <tr>\n",
       "      <th>rate_atc</th>\n",
       "      <td>-0.056225</td>\n",
       "      <td>1.000000</td>\n",
       "    </tr>\n",
       "  </tbody>\n",
       "</table>\n",
       "</div>"
      ],
      "text/plain": [
       "                rate_page_view  rate_atc\n",
       "rate_page_view        1.000000 -0.056225\n",
       "rate_atc             -0.056225  1.000000"
      ]
     },
     "execution_count": 110,
     "metadata": {},
     "output_type": "execute_result"
    }
   ],
   "source": [
    "temp_click = click.drop(columns = [0, \"time index\"])\n",
    "temp_click[\"rate_page_view\"] = temp_click[\"rate_page_view\"].shift(-1)\n",
    "temp_click.corr()\n",
    "#df['gdp'] = df['gdp'].shift(-1)\n",
    "#type(temp_click.squeeze())"
   ]
  },
  {
   "cell_type": "code",
   "execution_count": 111,
   "metadata": {},
   "outputs": [],
   "source": [
    "atc = calculate_rate(atc, 0)\n",
    "pageview = calculate_rate(pageview, 0)\n",
    "click = calculate_rate(click, 0)"
   ]
  },
  {
   "cell_type": "code",
   "execution_count": 114,
   "metadata": {},
   "outputs": [
    {
     "data": {
      "text/html": [
       "<div>\n",
       "<style scoped>\n",
       "    .dataframe tbody tr th:only-of-type {\n",
       "        vertical-align: middle;\n",
       "    }\n",
       "\n",
       "    .dataframe tbody tr th {\n",
       "        vertical-align: top;\n",
       "    }\n",
       "\n",
       "    .dataframe thead th {\n",
       "        text-align: right;\n",
       "    }\n",
       "</style>\n",
       "<table border=\"1\" class=\"dataframe\">\n",
       "  <thead>\n",
       "    <tr style=\"text-align: right;\">\n",
       "      <th></th>\n",
       "      <th>time index</th>\n",
       "      <th>event</th>\n",
       "      <th>0</th>\n",
       "      <th>rate_page_view</th>\n",
       "      <th>rate_atc</th>\n",
       "      <th>rate</th>\n",
       "    </tr>\n",
       "  </thead>\n",
       "  <tbody>\n",
       "    <tr>\n",
       "      <th>0</th>\n",
       "      <td>1</td>\n",
       "      <td>click</td>\n",
       "      <td>43</td>\n",
       "      <td>0.035000</td>\n",
       "      <td>-0.583333</td>\n",
       "      <td>0.000000</td>\n",
       "    </tr>\n",
       "    <tr>\n",
       "      <th>1</th>\n",
       "      <td>2</td>\n",
       "      <td>click</td>\n",
       "      <td>91</td>\n",
       "      <td>0.160000</td>\n",
       "      <td>-0.333333</td>\n",
       "      <td>1.116279</td>\n",
       "    </tr>\n",
       "    <tr>\n",
       "      <th>2</th>\n",
       "      <td>3</td>\n",
       "      <td>click</td>\n",
       "      <td>96</td>\n",
       "      <td>-0.056604</td>\n",
       "      <td>-0.166667</td>\n",
       "      <td>0.054945</td>\n",
       "    </tr>\n",
       "    <tr>\n",
       "      <th>3</th>\n",
       "      <td>4</td>\n",
       "      <td>click</td>\n",
       "      <td>101</td>\n",
       "      <td>0.138889</td>\n",
       "      <td>-0.222222</td>\n",
       "      <td>0.052083</td>\n",
       "    </tr>\n",
       "    <tr>\n",
       "      <th>4</th>\n",
       "      <td>5</td>\n",
       "      <td>click</td>\n",
       "      <td>100</td>\n",
       "      <td>-0.028571</td>\n",
       "      <td>0.333333</td>\n",
       "      <td>-0.009901</td>\n",
       "    </tr>\n",
       "  </tbody>\n",
       "</table>\n",
       "</div>"
      ],
      "text/plain": [
       "   time index  event    0  rate_page_view  rate_atc      rate\n",
       "0           1  click   43        0.035000 -0.583333  0.000000\n",
       "1           2  click   91        0.160000 -0.333333  1.116279\n",
       "2           3  click   96       -0.056604 -0.166667  0.054945\n",
       "3           4  click  101        0.138889 -0.222222  0.052083\n",
       "4           5  click  100       -0.028571  0.333333 -0.009901"
      ]
     },
     "execution_count": 114,
     "metadata": {},
     "output_type": "execute_result"
    }
   ],
   "source": [
    "click.head()"
   ]
  },
  {
   "cell_type": "code",
   "execution_count": 112,
   "metadata": {},
   "outputs": [
    {
     "data": {
      "text/plain": [
       "-0.008435247524874847"
      ]
     },
     "execution_count": 112,
     "metadata": {},
     "output_type": "execute_result"
    }
   ],
   "source": [
    "click[\"rate\"].squeeze().autocorr(1)"
   ]
  },
  {
   "cell_type": "markdown",
   "metadata": {},
   "source": [
    "# Rate"
   ]
  },
  {
   "cell_type": "markdown",
   "metadata": {},
   "source": [
    "What Happen"
   ]
  },
  {
   "cell_type": "code",
   "execution_count": 115,
   "metadata": {},
   "outputs": [
    {
     "data": {
      "image/png": "[encoded data removed]",
      "text/plain": [
       "<Figure size 432x288 with 1 Axes>"
      ]
     },
     "metadata": {
      "needs_background": "light"
     },
     "output_type": "display_data"
    }
   ],
   "source": [
    "plt.plot(atc[\"time index\"], atc[\"rate\"],alpha = 1 ,label = \"atc\")\n",
    "plt.plot(pageview[\"time index\"], pageview[\"rate\"],alpha = 0.7 ,label = \"pageview\")\n",
    "plt.plot(click[\"time index\"], click[\"rate\"],alpha = 0.5, label = \"click\")\n",
    "\n",
    "plt.legend(bbox_to_anchor=(1.05, 1), loc='upper left', borderaxespad=0.)\n",
    "plt.xlim([0, 1200])\n",
    "plt.show()"
   ]
  },
  {
   "cell_type": "code",
   "execution_count": 116,
   "metadata": {},
   "outputs": [],
   "source": [
    "where_event_rel = data.groupby([\"where\", \"event\"]).size()"
   ]
  },
  {
   "cell_type": "code",
   "execution_count": 117,
   "metadata": {},
   "outputs": [
    {
     "data": {
      "text/plain": [
       "<matplotlib.axes._subplots.AxesSubplot at 0x158559393a0>"
      ]
     },
     "execution_count": 117,
     "metadata": {},
     "output_type": "execute_result"
    },
    {
     "data": {
      "image/png": "[encoded data removed]",
      "text/plain": [
       "<Figure size 432x288 with 1 Axes>"
      ]
     },
     "metadata": {
      "needs_background": "light"
     },
     "output_type": "display_data"
    }
   ],
   "source": [
    "#where_event_rel\n",
    "where_event_rel.unstack(level=1).plot(kind='bar', subplots=False)"
   ]
  },
  {
   "cell_type": "code",
   "execution_count": 725,
   "metadata": {},
   "outputs": [],
   "source": [
    "data[\"revenue\"] = data[\"revenue\"].fillna(0)"
   ]
  },
  {
   "cell_type": "code",
   "execution_count": 118,
   "metadata": {},
   "outputs": [
    {
     "data": {
      "text/html": [
       "<div>\n",
       "<style scoped>\n",
       "    .dataframe tbody tr th:only-of-type {\n",
       "        vertical-align: middle;\n",
       "    }\n",
       "\n",
       "    .dataframe tbody tr th {\n",
       "        vertical-align: top;\n",
       "    }\n",
       "\n",
       "    .dataframe thead th {\n",
       "        text-align: right;\n",
       "    }\n",
       "</style>\n",
       "<table border=\"1\" class=\"dataframe\">\n",
       "  <thead>\n",
       "    <tr style=\"text-align: right;\">\n",
       "      <th></th>\n",
       "      <th>mid</th>\n",
       "      <th>when</th>\n",
       "      <th>event</th>\n",
       "      <th>revenue</th>\n",
       "      <th>0</th>\n",
       "    </tr>\n",
       "  </thead>\n",
       "  <tbody>\n",
       "    <tr>\n",
       "      <th>0</th>\n",
       "      <td>2958.0</td>\n",
       "      <td>1612139846</td>\n",
       "      <td>pageview</td>\n",
       "      <td>0.0</td>\n",
       "      <td>1</td>\n",
       "    </tr>\n",
       "    <tr>\n",
       "      <th>1</th>\n",
       "      <td>2958.0</td>\n",
       "      <td>1612139847</td>\n",
       "      <td>view</td>\n",
       "      <td>0.0</td>\n",
       "      <td>13</td>\n",
       "    </tr>\n",
       "    <tr>\n",
       "      <th>2</th>\n",
       "      <td>4102.0</td>\n",
       "      <td>1612198197</td>\n",
       "      <td>view</td>\n",
       "      <td>0.0</td>\n",
       "      <td>4</td>\n",
       "    </tr>\n",
       "    <tr>\n",
       "      <th>3</th>\n",
       "      <td>4102.0</td>\n",
       "      <td>1612198314</td>\n",
       "      <td>view</td>\n",
       "      <td>0.0</td>\n",
       "      <td>4</td>\n",
       "    </tr>\n",
       "    <tr>\n",
       "      <th>4</th>\n",
       "      <td>4102.0</td>\n",
       "      <td>1612198464</td>\n",
       "      <td>pageview</td>\n",
       "      <td>0.0</td>\n",
       "      <td>1</td>\n",
       "    </tr>\n",
       "  </tbody>\n",
       "</table>\n",
       "</div>"
      ],
      "text/plain": [
       "      mid        when     event  revenue   0\n",
       "0  2958.0  1612139846  pageview      0.0   1\n",
       "1  2958.0  1612139847      view      0.0  13\n",
       "2  4102.0  1612198197      view      0.0   4\n",
       "3  4102.0  1612198314      view      0.0   4\n",
       "4  4102.0  1612198464  pageview      0.0   1"
      ]
     },
     "execution_count": 118,
     "metadata": {},
     "output_type": "execute_result"
    }
   ],
   "source": [
    "data.groupby([\"mid\",\"when\" ,\"event\", \"revenue\"]).size().reset_index().head()"
   ]
  },
  {
   "cell_type": "code",
   "execution_count": 605,
   "metadata": {},
   "outputs": [],
   "source": [
    "item_page = where_time[where_time[\"where\"] == \"item page\"]\n",
    "item_page = where_time[where_time[\"where\"] == \"item page\"]"
   ]
  },
  {
   "cell_type": "code",
   "execution_count": 606,
   "metadata": {
    "scrolled": true
   },
   "outputs": [
    {
     "data": {
      "text/plain": [
       "(0.0, 1200.0)"
      ]
     },
     "execution_count": 606,
     "metadata": {},
     "output_type": "execute_result"
    },
    {
     "data": {
      "image/png": "[encoded data removed]",
      "text/plain": [
       "<Figure size 432x288 with 1 Axes>"
      ]
     },
     "metadata": {
      "needs_background": "light"
     },
     "output_type": "display_data"
    }
   ],
   "source": [
    "plt.plot(item_page[\"time index\"], item_page[0], label = \"item page\")\n",
    "plt.legend(bbox_to_anchor=(1.05, 1), loc='upper left', borderaxespad=0.)\n",
    "plt.xlim(0,1200)"
   ]
  },
  {
   "cell_type": "code",
   "execution_count": 643,
   "metadata": {},
   "outputs": [
    {
     "data": {
      "text/plain": [
       "3541.140416047548"
      ]
     },
     "execution_count": 643,
     "metadata": {},
     "output_type": "execute_result"
    }
   ],
   "source": [
    "data[\"revenue\"].mean()"
   ]
  },
  {
   "cell_type": "code",
   "execution_count": 609,
   "metadata": {},
   "outputs": [],
   "source": [
    "revenue = data.groupby(\"when\").sum()[\"revenue\"]"
   ]
  },
  {
   "cell_type": "code",
   "execution_count": 610,
   "metadata": {},
   "outputs": [],
   "source": [
    "count = data.groupby(\"when\").count()[\"revenue\"]"
   ]
  },
  {
   "cell_type": "code",
   "execution_count": 611,
   "metadata": {},
   "outputs": [],
   "source": [
    "with np.errstate(divide='ignore', invalid='ignore'):\n",
    "    c = np.true_divide(revenue.values,count.values)\n",
    "    c[c == np.inf] = 0\n",
    "    c = np.nan_to_num(c)\n"
   ]
  },
  {
   "cell_type": "code",
   "execution_count": 612,
   "metadata": {
    "collapsed": true
   },
   "outputs": [
    {
     "name": "stderr",
     "output_type": "stream",
     "text": [
      "<ipython-input-612-4656648e0a2f>:2: RuntimeWarning: invalid value encountered in true_divide\n",
      "  sp = (revenue.values) / count.values\n"
     ]
    }
   ],
   "source": [
    "time = revenue.index\n",
    "sp = (revenue.values) / count.values\n",
    "#ct = count.values"
   ]
  },
  {
   "cell_type": "code",
   "execution_count": 161,
   "metadata": {},
   "outputs": [
    {
     "data": {
      "text/plain": [
       "array([6.602385e+06, 0.000000e+00, 0.000000e+00, 5.500000e+01,\n",
       "       5.500000e+01, 6.483072e+08, 0.000000e+00, 0.000000e+00,\n",
       "       0.000000e+00, 0.000000e+00])"
      ]
     },
     "execution_count": 161,
     "metadata": {},
     "output_type": "execute_result"
    }
   ],
   "source": [
    "(sp[0])"
   ]
  },
  {
   "cell_type": "code",
   "execution_count": 175,
   "metadata": {
    "scrolled": true
   },
   "outputs": [
    {
     "data": {
      "text/plain": [
       "[<matplotlib.lines.Line2D at 0x25b063fea00>]"
      ]
     },
     "execution_count": 175,
     "metadata": {},
     "output_type": "execute_result"
    },
    {
     "data": {
      "image/png": "[encoded data removed]",
      "text/plain": [
       "<Figure size 432x288 with 1 Axes>"
      ]
     },
     "metadata": {
      "needs_background": "light"
     },
     "output_type": "display_data"
    }
   ],
   "source": [
    "plt.plot(time, c)"
   ]
  },
  {
   "cell_type": "code",
   "execution_count": 9,
   "metadata": {},
   "outputs": [],
   "source": [
    "event_count = data.groupby(\"event\").count()[\"Unnamed: 0\"]"
   ]
  },
  {
   "cell_type": "code",
   "execution_count": 19,
   "metadata": {},
   "outputs": [
    {
     "data": {
      "text/plain": [
       "array([   4428,     735,   70852,   11763,      50,  126852, 3031428],\n",
       "      dtype=int64)"
      ]
     },
     "execution_count": 19,
     "metadata": {},
     "output_type": "execute_result"
    }
   ],
   "source": [
    "event_count.values"
   ]
  },
  {
   "cell_type": "code",
   "execution_count": 20,
   "metadata": {},
   "outputs": [],
   "source": [
    "event_list = list(event_count.index)\n",
    "event_value = list(event_count.values)"
   ]
  },
  {
   "cell_type": "code",
   "execution_count": 16,
   "metadata": {},
   "outputs": [],
   "source": [
    "import matplotlib.pyplot as plt"
   ]
  },
  {
   "cell_type": "code",
   "execution_count": 30,
   "metadata": {},
   "outputs": [
    {
     "data": {
      "text/plain": [
       "<BarContainer object of 7 artists>"
      ]
     },
     "execution_count": 30,
     "metadata": {},
     "output_type": "execute_result"
    },
    {
     "data": {
      "image/png": "[encoded data removed]",
      "text/plain": [
       "<Figure size 432x288 with 1 Axes>"
      ]
     },
     "metadata": {
      "needs_background": "light"
     },
     "output_type": "display_data"
    }
   ],
   "source": [
    "plt.barh(event_list, event_value, color='maroon')"
   ]
  },
  {
   "cell_type": "code",
   "execution_count": 34,
   "metadata": {},
   "outputs": [
    {
     "data": {
      "text/plain": [
       "event\n",
       "atc              4428\n",
       "buy               735\n",
       "click           70852\n",
       "impression      11763\n",
       "love               50\n",
       "pageview       126852\n",
       "view          3031428\n",
       "Name: Unnamed: 0, dtype: int64"
      ]
     },
     "execution_count": 34,
     "metadata": {},
     "output_type": "execute_result"
    }
   ],
   "source": [
    "event_count"
   ]
  },
  {
   "cell_type": "code",
   "execution_count": 75,
   "metadata": {},
   "outputs": [
    {
     "data": {
      "text/plain": [
       "0.034906820546778926"
      ]
     },
     "execution_count": 75,
     "metadata": {},
     "output_type": "execute_result"
    }
   ],
   "source": [
    "event_count[\"atc\"] / event_count[\"pageview\"]"
   ]
  },
  {
   "cell_type": "code",
   "execution_count": 61,
   "metadata": {},
   "outputs": [
    {
     "data": {
      "text/plain": [
       "0.1659891598915989"
      ]
     },
     "execution_count": 61,
     "metadata": {},
     "output_type": "execute_result"
    }
   ],
   "source": [
    "event_count[\"buy\"] / event_count[\"atc\"]"
   ]
  },
  {
   "cell_type": "markdown",
   "metadata": {},
   "source": [
    "What next:\n",
    "* what happen to click\n",
    "* predict when the customer will buy and Add to cart\n",
    "* get the relationship of part 2\n",
    "* split customer database and transaction data (整體資料基本上沒啥預測能力)(無線性關係)"
   ]
  },
  {
   "cell_type": "markdown",
   "metadata": {},
   "source": [
    "# Personal Data Analysis"
   ]
  },
  {
   "cell_type": "code",
   "execution_count": 48,
   "metadata": {},
   "outputs": [],
   "source": [
    "from os import listdir\n",
    "from os.path import isfile, join\n",
    "import os\n",
    "import gc"
   ]
  },
  {
   "cell_type": "code",
   "execution_count": 52,
   "metadata": {},
   "outputs": [
    {
     "data": {
      "text/plain": [
       "563"
      ]
     },
     "execution_count": 52,
     "metadata": {},
     "output_type": "execute_result"
    }
   ],
   "source": [
    " gc.collect()"
   ]
  },
  {
   "cell_type": "code",
   "execution_count": 49,
   "metadata": {},
   "outputs": [],
   "source": [
    "file_name = []\n",
    "\n",
    "for file in os.listdir(r\"C:\\Users\\b0770\\Desktop\\VeryBuy csv\"):\n",
    "    file_name.append(os.path.join(r\"C:\\Users\\b0770\\Desktop\\VeryBuy csv\", file))"
   ]
  },
  {
   "cell_type": "code",
   "execution_count": 54,
   "metadata": {},
   "outputs": [],
   "source": [
    "customer_list = []\n",
    "\n",
    "for i in(file_name):\n",
    "    data_1 = pd.read_csv(i, low_memory=False)\n",
    "    customer_list = customer_list + list(data_1[data_1[\"event\"] == \"buy\"].mid)"
   ]
  },
  {
   "cell_type": "code",
   "execution_count": 56,
   "metadata": {},
   "outputs": [],
   "source": [
    "customer_buying_list = (list(set(customer_list)))"
   ]
  },
  {
   "cell_type": "code",
   "execution_count": 57,
   "metadata": {},
   "outputs": [],
   "source": [
    "customer_buying_list.sort()"
   ]
  },
  {
   "cell_type": "code",
   "execution_count": 58,
   "metadata": {},
   "outputs": [
    {
     "data": {
      "text/html": [
       "<div>\n",
       "<style scoped>\n",
       "    .dataframe tbody tr th:only-of-type {\n",
       "        vertical-align: middle;\n",
       "    }\n",
       "\n",
       "    .dataframe tbody tr th {\n",
       "        vertical-align: top;\n",
       "    }\n",
       "\n",
       "    .dataframe thead th {\n",
       "        text-align: right;\n",
       "    }\n",
       "</style>\n",
       "<table border=\"1\" class=\"dataframe\">\n",
       "  <thead>\n",
       "    <tr style=\"text-align: right;\">\n",
       "      <th></th>\n",
       "      <th>Unnamed: 0</th>\n",
       "      <th>mid</th>\n",
       "      <th>token</th>\n",
       "      <th>platform</th>\n",
       "      <th>device</th>\n",
       "      <th>login</th>\n",
       "      <th>when</th>\n",
       "      <th>event</th>\n",
       "      <th>where</th>\n",
       "      <th>pit-number</th>\n",
       "      <th>...</th>\n",
       "      <th>session-id</th>\n",
       "      <th>parent-category-id</th>\n",
       "      <th>gid</th>\n",
       "      <th>deviceType</th>\n",
       "      <th>theme-subject</th>\n",
       "      <th>theme-style</th>\n",
       "      <th>revenue</th>\n",
       "      <th>shipping_fee</th>\n",
       "      <th>transaction_id</th>\n",
       "      <th>amount</th>\n",
       "    </tr>\n",
       "  </thead>\n",
       "  <tbody>\n",
       "    <tr>\n",
       "      <th>2</th>\n",
       "      <td>2</td>\n",
       "      <td>1135146.0</td>\n",
       "      <td>d213e100430fad7744ef66c502b0fcfe</td>\n",
       "      <td>ios</td>\n",
       "      <td>phone</td>\n",
       "      <td>True</td>\n",
       "      <td>1612137691</td>\n",
       "      <td>view</td>\n",
       "      <td>item_bottom_alsolike</td>\n",
       "      <td>10.0</td>\n",
       "      <td>...</td>\n",
       "      <td>NaN</td>\n",
       "      <td>NaN</td>\n",
       "      <td>NaN</td>\n",
       "      <td>NaN</td>\n",
       "      <td>NaN</td>\n",
       "      <td>NaN</td>\n",
       "      <td>NaN</td>\n",
       "      <td>NaN</td>\n",
       "      <td>NaN</td>\n",
       "      <td>NaN</td>\n",
       "    </tr>\n",
       "    <tr>\n",
       "      <th>3</th>\n",
       "      <td>3</td>\n",
       "      <td>1135146.0</td>\n",
       "      <td>d213e100430fad7744ef66c502b0fcfe</td>\n",
       "      <td>ios</td>\n",
       "      <td>phone</td>\n",
       "      <td>True</td>\n",
       "      <td>1612137691</td>\n",
       "      <td>view</td>\n",
       "      <td>item_bottom_alsolike</td>\n",
       "      <td>7.0</td>\n",
       "      <td>...</td>\n",
       "      <td>NaN</td>\n",
       "      <td>NaN</td>\n",
       "      <td>NaN</td>\n",
       "      <td>NaN</td>\n",
       "      <td>NaN</td>\n",
       "      <td>NaN</td>\n",
       "      <td>NaN</td>\n",
       "      <td>NaN</td>\n",
       "      <td>NaN</td>\n",
       "      <td>NaN</td>\n",
       "    </tr>\n",
       "    <tr>\n",
       "      <th>4</th>\n",
       "      <td>4</td>\n",
       "      <td>1135146.0</td>\n",
       "      <td>d213e100430fad7744ef66c502b0fcfe</td>\n",
       "      <td>ios</td>\n",
       "      <td>phone</td>\n",
       "      <td>True</td>\n",
       "      <td>1612137691</td>\n",
       "      <td>view</td>\n",
       "      <td>item_bottom_alsolike</td>\n",
       "      <td>8.0</td>\n",
       "      <td>...</td>\n",
       "      <td>NaN</td>\n",
       "      <td>NaN</td>\n",
       "      <td>NaN</td>\n",
       "      <td>NaN</td>\n",
       "      <td>NaN</td>\n",
       "      <td>NaN</td>\n",
       "      <td>NaN</td>\n",
       "      <td>NaN</td>\n",
       "      <td>NaN</td>\n",
       "      <td>NaN</td>\n",
       "    </tr>\n",
       "    <tr>\n",
       "      <th>5</th>\n",
       "      <td>5</td>\n",
       "      <td>1135146.0</td>\n",
       "      <td>d213e100430fad7744ef66c502b0fcfe</td>\n",
       "      <td>ios</td>\n",
       "      <td>phone</td>\n",
       "      <td>True</td>\n",
       "      <td>1612137691</td>\n",
       "      <td>view</td>\n",
       "      <td>item_bottom_alsolike</td>\n",
       "      <td>9.0</td>\n",
       "      <td>...</td>\n",
       "      <td>NaN</td>\n",
       "      <td>NaN</td>\n",
       "      <td>NaN</td>\n",
       "      <td>NaN</td>\n",
       "      <td>NaN</td>\n",
       "      <td>NaN</td>\n",
       "      <td>NaN</td>\n",
       "      <td>NaN</td>\n",
       "      <td>NaN</td>\n",
       "      <td>NaN</td>\n",
       "    </tr>\n",
       "    <tr>\n",
       "      <th>13</th>\n",
       "      <td>13</td>\n",
       "      <td>1240636.0</td>\n",
       "      <td>cc7f2928c64bb64a29a983415429c816</td>\n",
       "      <td>ios</td>\n",
       "      <td>phone</td>\n",
       "      <td>True</td>\n",
       "      <td>1612137692</td>\n",
       "      <td>view</td>\n",
       "      <td>category list</td>\n",
       "      <td>17.0</td>\n",
       "      <td>...</td>\n",
       "      <td>NaN</td>\n",
       "      <td>5.0</td>\n",
       "      <td>NaN</td>\n",
       "      <td>NaN</td>\n",
       "      <td>NaN</td>\n",
       "      <td>NaN</td>\n",
       "      <td>NaN</td>\n",
       "      <td>NaN</td>\n",
       "      <td>NaN</td>\n",
       "      <td>NaN</td>\n",
       "    </tr>\n",
       "  </tbody>\n",
       "</table>\n",
       "<p>5 rows × 28 columns</p>\n",
       "</div>"
      ],
      "text/plain": [
       "    Unnamed: 0        mid                             token platform device  \\\n",
       "2            2  1135146.0  d213e100430fad7744ef66c502b0fcfe      ios  phone   \n",
       "3            3  1135146.0  d213e100430fad7744ef66c502b0fcfe      ios  phone   \n",
       "4            4  1135146.0  d213e100430fad7744ef66c502b0fcfe      ios  phone   \n",
       "5            5  1135146.0  d213e100430fad7744ef66c502b0fcfe      ios  phone   \n",
       "13          13  1240636.0  cc7f2928c64bb64a29a983415429c816      ios  phone   \n",
       "\n",
       "    login        when event                 where  pit-number  ... session-id  \\\n",
       "2    True  1612137691  view  item_bottom_alsolike        10.0  ...        NaN   \n",
       "3    True  1612137691  view  item_bottom_alsolike         7.0  ...        NaN   \n",
       "4    True  1612137691  view  item_bottom_alsolike         8.0  ...        NaN   \n",
       "5    True  1612137691  view  item_bottom_alsolike         9.0  ...        NaN   \n",
       "13   True  1612137692  view         category list        17.0  ...        NaN   \n",
       "\n",
       "   parent-category-id gid deviceType theme-subject theme-style revenue  \\\n",
       "2                 NaN NaN        NaN           NaN         NaN     NaN   \n",
       "3                 NaN NaN        NaN           NaN         NaN     NaN   \n",
       "4                 NaN NaN        NaN           NaN         NaN     NaN   \n",
       "5                 NaN NaN        NaN           NaN         NaN     NaN   \n",
       "13                5.0 NaN        NaN           NaN         NaN     NaN   \n",
       "\n",
       "   shipping_fee transaction_id  amount  \n",
       "2           NaN            NaN     NaN  \n",
       "3           NaN            NaN     NaN  \n",
       "4           NaN            NaN     NaN  \n",
       "5           NaN            NaN     NaN  \n",
       "13          NaN            NaN     NaN  \n",
       "\n",
       "[5 rows x 28 columns]"
      ]
     },
     "execution_count": 58,
     "metadata": {},
     "output_type": "execute_result"
    }
   ],
   "source": [
    "(buy_customer_data).head()"
   ]
  },
  {
   "cell_type": "code",
   "execution_count": 59,
   "metadata": {},
   "outputs": [
    {
     "data": {
      "text/html": [
       "<div>\n",
       "<style scoped>\n",
       "    .dataframe tbody tr th:only-of-type {\n",
       "        vertical-align: middle;\n",
       "    }\n",
       "\n",
       "    .dataframe tbody tr th {\n",
       "        vertical-align: top;\n",
       "    }\n",
       "\n",
       "    .dataframe thead th {\n",
       "        text-align: right;\n",
       "    }\n",
       "</style>\n",
       "<table border=\"1\" class=\"dataframe\">\n",
       "  <thead>\n",
       "    <tr style=\"text-align: right;\">\n",
       "      <th></th>\n",
       "      <th>Unnamed: 0</th>\n",
       "      <th>mid</th>\n",
       "      <th>token</th>\n",
       "      <th>platform</th>\n",
       "      <th>device</th>\n",
       "      <th>login</th>\n",
       "      <th>when</th>\n",
       "      <th>event</th>\n",
       "      <th>where</th>\n",
       "      <th>pit-number</th>\n",
       "      <th>...</th>\n",
       "      <th>session-id</th>\n",
       "      <th>parent-category-id</th>\n",
       "      <th>gid</th>\n",
       "      <th>deviceType</th>\n",
       "      <th>theme-subject</th>\n",
       "      <th>theme-style</th>\n",
       "      <th>revenue</th>\n",
       "      <th>shipping_fee</th>\n",
       "      <th>transaction_id</th>\n",
       "      <th>amount</th>\n",
       "    </tr>\n",
       "  </thead>\n",
       "  <tbody>\n",
       "    <tr>\n",
       "      <th>2</th>\n",
       "      <td>2</td>\n",
       "      <td>1135146.0</td>\n",
       "      <td>d213e100430fad7744ef66c502b0fcfe</td>\n",
       "      <td>ios</td>\n",
       "      <td>phone</td>\n",
       "      <td>True</td>\n",
       "      <td>1612137691</td>\n",
       "      <td>view</td>\n",
       "      <td>item_bottom_alsolike</td>\n",
       "      <td>10.0</td>\n",
       "      <td>...</td>\n",
       "      <td>NaN</td>\n",
       "      <td>NaN</td>\n",
       "      <td>NaN</td>\n",
       "      <td>NaN</td>\n",
       "      <td>NaN</td>\n",
       "      <td>NaN</td>\n",
       "      <td>NaN</td>\n",
       "      <td>NaN</td>\n",
       "      <td>NaN</td>\n",
       "      <td>NaN</td>\n",
       "    </tr>\n",
       "    <tr>\n",
       "      <th>3</th>\n",
       "      <td>3</td>\n",
       "      <td>1135146.0</td>\n",
       "      <td>d213e100430fad7744ef66c502b0fcfe</td>\n",
       "      <td>ios</td>\n",
       "      <td>phone</td>\n",
       "      <td>True</td>\n",
       "      <td>1612137691</td>\n",
       "      <td>view</td>\n",
       "      <td>item_bottom_alsolike</td>\n",
       "      <td>7.0</td>\n",
       "      <td>...</td>\n",
       "      <td>NaN</td>\n",
       "      <td>NaN</td>\n",
       "      <td>NaN</td>\n",
       "      <td>NaN</td>\n",
       "      <td>NaN</td>\n",
       "      <td>NaN</td>\n",
       "      <td>NaN</td>\n",
       "      <td>NaN</td>\n",
       "      <td>NaN</td>\n",
       "      <td>NaN</td>\n",
       "    </tr>\n",
       "    <tr>\n",
       "      <th>4</th>\n",
       "      <td>4</td>\n",
       "      <td>1135146.0</td>\n",
       "      <td>d213e100430fad7744ef66c502b0fcfe</td>\n",
       "      <td>ios</td>\n",
       "      <td>phone</td>\n",
       "      <td>True</td>\n",
       "      <td>1612137691</td>\n",
       "      <td>view</td>\n",
       "      <td>item_bottom_alsolike</td>\n",
       "      <td>8.0</td>\n",
       "      <td>...</td>\n",
       "      <td>NaN</td>\n",
       "      <td>NaN</td>\n",
       "      <td>NaN</td>\n",
       "      <td>NaN</td>\n",
       "      <td>NaN</td>\n",
       "      <td>NaN</td>\n",
       "      <td>NaN</td>\n",
       "      <td>NaN</td>\n",
       "      <td>NaN</td>\n",
       "      <td>NaN</td>\n",
       "    </tr>\n",
       "    <tr>\n",
       "      <th>5</th>\n",
       "      <td>5</td>\n",
       "      <td>1135146.0</td>\n",
       "      <td>d213e100430fad7744ef66c502b0fcfe</td>\n",
       "      <td>ios</td>\n",
       "      <td>phone</td>\n",
       "      <td>True</td>\n",
       "      <td>1612137691</td>\n",
       "      <td>view</td>\n",
       "      <td>item_bottom_alsolike</td>\n",
       "      <td>9.0</td>\n",
       "      <td>...</td>\n",
       "      <td>NaN</td>\n",
       "      <td>NaN</td>\n",
       "      <td>NaN</td>\n",
       "      <td>NaN</td>\n",
       "      <td>NaN</td>\n",
       "      <td>NaN</td>\n",
       "      <td>NaN</td>\n",
       "      <td>NaN</td>\n",
       "      <td>NaN</td>\n",
       "      <td>NaN</td>\n",
       "    </tr>\n",
       "    <tr>\n",
       "      <th>13</th>\n",
       "      <td>13</td>\n",
       "      <td>1240636.0</td>\n",
       "      <td>cc7f2928c64bb64a29a983415429c816</td>\n",
       "      <td>ios</td>\n",
       "      <td>phone</td>\n",
       "      <td>True</td>\n",
       "      <td>1612137692</td>\n",
       "      <td>view</td>\n",
       "      <td>category list</td>\n",
       "      <td>17.0</td>\n",
       "      <td>...</td>\n",
       "      <td>NaN</td>\n",
       "      <td>5.0</td>\n",
       "      <td>NaN</td>\n",
       "      <td>NaN</td>\n",
       "      <td>NaN</td>\n",
       "      <td>NaN</td>\n",
       "      <td>NaN</td>\n",
       "      <td>NaN</td>\n",
       "      <td>NaN</td>\n",
       "      <td>NaN</td>\n",
       "    </tr>\n",
       "  </tbody>\n",
       "</table>\n",
       "<p>5 rows × 28 columns</p>\n",
       "</div>"
      ],
      "text/plain": [
       "    Unnamed: 0        mid                             token platform device  \\\n",
       "2            2  1135146.0  d213e100430fad7744ef66c502b0fcfe      ios  phone   \n",
       "3            3  1135146.0  d213e100430fad7744ef66c502b0fcfe      ios  phone   \n",
       "4            4  1135146.0  d213e100430fad7744ef66c502b0fcfe      ios  phone   \n",
       "5            5  1135146.0  d213e100430fad7744ef66c502b0fcfe      ios  phone   \n",
       "13          13  1240636.0  cc7f2928c64bb64a29a983415429c816      ios  phone   \n",
       "\n",
       "    login        when event                 where  pit-number  ... session-id  \\\n",
       "2    True  1612137691  view  item_bottom_alsolike        10.0  ...        NaN   \n",
       "3    True  1612137691  view  item_bottom_alsolike         7.0  ...        NaN   \n",
       "4    True  1612137691  view  item_bottom_alsolike         8.0  ...        NaN   \n",
       "5    True  1612137691  view  item_bottom_alsolike         9.0  ...        NaN   \n",
       "13   True  1612137692  view         category list        17.0  ...        NaN   \n",
       "\n",
       "   parent-category-id gid deviceType theme-subject theme-style revenue  \\\n",
       "2                 NaN NaN        NaN           NaN         NaN     NaN   \n",
       "3                 NaN NaN        NaN           NaN         NaN     NaN   \n",
       "4                 NaN NaN        NaN           NaN         NaN     NaN   \n",
       "5                 NaN NaN        NaN           NaN         NaN     NaN   \n",
       "13                5.0 NaN        NaN           NaN         NaN     NaN   \n",
       "\n",
       "   shipping_fee transaction_id  amount  \n",
       "2           NaN            NaN     NaN  \n",
       "3           NaN            NaN     NaN  \n",
       "4           NaN            NaN     NaN  \n",
       "5           NaN            NaN     NaN  \n",
       "13          NaN            NaN     NaN  \n",
       "\n",
       "[5 rows x 28 columns]"
      ]
     },
     "execution_count": 59,
     "metadata": {},
     "output_type": "execute_result"
    }
   ],
   "source": [
    "buy_customer_data.head()"
   ]
  },
  {
   "cell_type": "code",
   "execution_count": 65,
   "metadata": {
    "collapsed": true
   },
   "outputs": [
    {
     "name": "stdout",
     "output_type": "stream",
     "text": [
      "37\n",
      "38\n",
      "39\n",
      "40\n",
      "41\n",
      "42\n",
      "43\n",
      "44\n"
     ]
    },
    {
     "name": "stderr",
     "output_type": "stream",
     "text": [
      "C:\\Users\\b0770\\anaconda3\\lib\\site-packages\\IPython\\core\\interactiveshell.py:3071: DtypeWarning: Columns (2,19) have mixed types.Specify dtype option on import or set low_memory=False.\n",
      "  has_raised = await self.run_ast_nodes(code_ast.body, cell_name,\n"
     ]
    },
    {
     "name": "stdout",
     "output_type": "stream",
     "text": [
      "45\n",
      "46\n"
     ]
    },
    {
     "name": "stderr",
     "output_type": "stream",
     "text": [
      "C:\\Users\\b0770\\anaconda3\\lib\\site-packages\\IPython\\core\\interactiveshell.py:3071: DtypeWarning: Columns (2,17) have mixed types.Specify dtype option on import or set low_memory=False.\n",
      "  has_raised = await self.run_ast_nodes(code_ast.body, cell_name,\n"
     ]
    },
    {
     "name": "stdout",
     "output_type": "stream",
     "text": [
      "47\n"
     ]
    },
    {
     "name": "stderr",
     "output_type": "stream",
     "text": [
      "C:\\Users\\b0770\\anaconda3\\lib\\site-packages\\IPython\\core\\interactiveshell.py:3071: DtypeWarning: Columns (17,20) have mixed types.Specify dtype option on import or set low_memory=False.\n",
      "  has_raised = await self.run_ast_nodes(code_ast.body, cell_name,\n"
     ]
    },
    {
     "name": "stdout",
     "output_type": "stream",
     "text": [
      "48\n",
      "49\n",
      "50\n",
      "51\n",
      "52\n",
      "53\n",
      "54\n",
      "55\n",
      "56\n",
      "57\n",
      "58\n",
      "59\n",
      "60\n"
     ]
    }
   ],
   "source": [
    "buy_customer_data = pd.DataFrame()\n",
    "count = 1\n",
    "index = 0\n",
    "\n",
    "\n",
    "for i in(file_name):\n",
    "    gc.collect()\n",
    "    if index < 37:\n",
    "        index = index + 1\n",
    "        continue\n",
    "    print(index)\n",
    "    index = index + 1\n",
    "    try:\n",
    "        data_1 = pd.read_csv(i)\n",
    "        buy_customer_data = buy_customer_data.append(data_1[data_1[\"mid\"].isin(customer_list)])\n",
    "    except:\n",
    "        count = count + 1\n",
    "        buy_customer_data.to_csv(\"buy_customer_data.csv\"+str(count))\n",
    "        buy_customer_data = pd.DataFrame()\n",
    "        data_1 = pd.read_csv(i)\n",
    "        buy_customer_data = buy_customer_data.append(data_1[data_1[\"mid\"].isin(customer_list)])"
   ]
  },
  {
   "cell_type": "code",
   "execution_count": 68,
   "metadata": {},
   "outputs": [],
   "source": [
    "count = count+1"
   ]
  },
  {
   "cell_type": "code",
   "execution_count": 69,
   "metadata": {},
   "outputs": [],
   "source": [
    "buy_customer_data.to_csv(\"buy_customer_data.csv\"+str(count))"
   ]
  }
 ],
 "metadata": {
  "kernelspec": {
   "display_name": "Python 3",
   "language": "python",
   "name": "python3"
  },
  "language_info": {
   "codemirror_mode": {
    "name": "ipython",
    "version": 3
   },
   "file_extension": ".py",
   "mimetype": "text/x-python",
   "name": "python",
   "nbconvert_exporter": "python",
   "pygments_lexer": "ipython3",
   "version": "3.8.3"
  }
 },
 "nbformat": 4,
 "nbformat_minor": 4
}
